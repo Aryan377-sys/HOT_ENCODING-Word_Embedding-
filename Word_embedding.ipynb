{
 "cells": [
  {
   "cell_type": "markdown",
   "metadata": {},
   "source": [
    "# Combination of Words from Sentences\n",
    "> This script processes a text file to generate all possible combinations of words from each sentence, excluding common \"useless\" words. The combinations are stored in a structured list for further analysis or processing. \n",
    "\n",
    "1.  Key Steps:\n",
    "Read and Clean Text:\n",
    "\n",
    "2. Load text from a specified file.\n",
    "Split the text into sentences.\n",
    "3. Clean each sentence by removing newline characters and leading/trailing whitespace.\n",
    "Filter Out Useless Words:\n",
    "\n",
    "4. Define a list of common words that do not add significant value to word combinations.\n",
    "5. Split each sentence into words and remove the useless words.\n",
    "6. Generate Combinations:\n",
    "\n",
    "> For each sentence, generate all possible combinations of two words.\n",
    "Convert the combinations from tuples to lists for easier handling.\n",
    "Output:\n",
    "\n",
    "**Print the resulting list of word combinations for each sentence**"
   ]
  },
  {
   "cell_type": "code",
   "execution_count": null,
   "metadata": {},
   "outputs": [],
   "source": [
    "#USE OF COMBINATION IN LIST OF SENTENCES\n",
    "\n",
    "import numpy as np\n",
    "from itertools import permutations,combinations\n",
    "\n",
    "# Reading the file\n",
    "with open(\"/home/sohanx1/Downloads/Sohan/sohan/PYTHON WORKS/Files_for_Coding/CNN/practice.txt\", 'r', encoding='Latin-1') as f:\n",
    "    text = f.read()\n",
    "\n",
    "# Splitting and cleaning sentences\n",
    "sentence_list = text.split('.')  # .split() automatically forms a list\n",
    "sentence_list = [s.replace('\\n', '').strip() for s in sentence_list if s.strip()]\n",
    "# Wightless words\n",
    "Useless_Words = ['is', 'are', 'the', 'they', 'to', 'a', 'and', 'of', 'as', 'on']\n",
    "\n",
    "# Filter words from sentence_list\n",
    "Words_list = []\n",
    "for sentence in sentence_list:\n",
    "    words = sentence.split()\n",
    "    filtered_words = [word.lower() for word in words if word.lower() not in Useless_Words]\n",
    "    Words_list.append(filtered_words)\n",
    "\n",
    "# Generate combinations of words in Words_list\n",
    "anagram_list = []\n",
    "for word_list in Words_list:\n",
    "   \n",
    "    perms = list(combinations(word_list, 2))  # Generate combinations of 2 words\n",
    "    combinations_list = [list(comb) for comb in perms]  # Convert each combination tuple to a list because using Combination converts inner list to tuples [(...),(...)] but we need it as [[....],[....],[....]]\n",
    "    anagram_list.append(combinations_list)\n",
    "\n",
    "print(anagram_list)\n"
   ]
  },
  {
   "cell_type": "code",
   "execution_count": null,
   "metadata": {},
   "outputs": [],
   "source": [
    "all=[]\n",
    "for i in Words_list:  # Words_list contains list of sentences(in strings now) in a list eliminating all Useless_Words \n",
    "    all.extend(i)     #Forming a new list with all the strings from each list of the list (here Words_list)\n",
    "all_vocabulary=list(set(all)) #using set to remove duplicate vocabulary and again keeping it in list"
   ]
  },
  {
   "cell_type": "markdown",
   "metadata": {},
   "source": [
    "# ONE HOT ENCODING \n",
    "\n",
    "* One-hot encoding is a technique used to convert categorical data into a binary (0 or 1) vector representation. Each unique category is represented by a vector with a length equal to the number of unique categories in the dataset, with all elements set to 0 except for the one corresponding to the category, which is set to 1."
   ]
  },
  {
   "cell_type": "markdown",
   "metadata": {},
   "source": [
    "# Why Use One-Hot Encoding?\n",
    "\n",
    "- Machine Learning Compatibility: Many machine learning algorithms require numerical input data, and one-hot encoding provides a way to represent categorical data numerically.\n",
    "- No Ordinal Relationship: One-hot encoding is suitable for categorical data without any ordinal relationship, ensuring that the algorithm doesn't infer any incorrect order or priority among the categories."
   ]
  },
  {
   "cell_type": "code",
   "execution_count": null,
   "metadata": {},
   "outputs": [],
   "source": [
    "    #One hot Encoding\n",
    "    import numpy as np\n",
    "    x=np.zeros((len(all_vocabulary),len(all_vocabulary)))\n",
    "    for i,v in enumerate(all_vocabulary):\n",
    "        x[i,i]=1\n",
    "    print(x)    "
   ]
  }
 ],
 "metadata": {
  "kernelspec": {
   "display_name": "sohanpython",
   "language": "python",
   "name": "python3"
  },
  "language_info": {
   "codemirror_mode": {
    "name": "ipython",
    "version": 3
   },
   "file_extension": ".py",
   "mimetype": "text/x-python",
   "name": "python",
   "nbconvert_exporter": "python",
   "pygments_lexer": "ipython3",
   "version": "3.12.3"
  }
 },
 "nbformat": 4,
 "nbformat_minor": 2
}
